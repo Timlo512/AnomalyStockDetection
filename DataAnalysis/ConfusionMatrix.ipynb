{
 "cells": [
  {
   "cell_type": "code",
   "execution_count": 8,
   "metadata": {
    "collapsed": true
   },
   "outputs": [],
   "source": [
    "import pandas as pd\n",
    "import numpy as np\n",
    "\n",
    "from sklearn.metrics import confusion_matrix"
   ]
  },
  {
   "cell_type": "code",
   "execution_count": 23,
   "metadata": {
    "collapsed": true
   },
   "outputs": [],
   "source": [
    "# Calculate the confusion matrix\n",
    "truth_label = np.random.choice(2, size = 100)\n",
    "prediction = np.random.choice(2, size = 100)\n",
    "\n",
    "# print precision, recall and return F_score\n",
    "def f_score(y_truth, y_pred, beta = 1):\n",
    "    \n",
    "    try:\n",
    "        # Run confusion_matrix\n",
    "        tn, fp, fn, tp = confusion_matrix(y_truth, y_pred).ravel()\n",
    "        \n",
    "        precision_value = precision(tp, fp)\n",
    "        recall_value = recall(tp, fn)\n",
    "        # print recall\n",
    "        print('True positive: {}, True Negative: {}, False Positive: {}, False Negative: {}'.format(tp, tn, fp, fn))\n",
    "        print('Precision is ', format(precision_value * 100, '.2f'), '%')\n",
    "        print('Recall is ', format(recall_value * 100, '.2f'), '%')\n",
    "        \n",
    "        return (1 + beta**2) * (precision_value * recall_value) / ((beta**2 * precision_value + recall_value))\n",
    "    except Exception as e:\n",
    "        print(e)\n",
    "        return None\n",
    "\n",
    "# return precision\n",
    "def precision(tp, fp):\n",
    "    return tp / (tp + fp)\n",
    "\n",
    "# return recall():\n",
    "def recall(tp, fn):\n",
    "    return tp / (tp + fn)\n",
    "    \n",
    "# display ROC curve and return AUC\n",
    "def ROC_AUC(y_truth, y_pred):\n",
    "    pass\n",
    "\n",
    "\n",
    "\n",
    "    \n"
   ]
  },
  {
   "cell_type": "code",
   "execution_count": 24,
   "metadata": {},
   "outputs": [
    {
     "name": "stdout",
     "output_type": "stream",
     "text": [
      "True positive: 23, True Negative: 29, False Positive: 29, False Negative: 19\n",
      "Precision is  44.23 %\n",
      "Recall is  54.76\n"
     ]
    },
    {
     "data": {
      "text/plain": [
       "0.4893617021276596"
      ]
     },
     "execution_count": 24,
     "metadata": {},
     "output_type": "execute_result"
    }
   ],
   "source": [
    "# The higher the f-score, the better the model\n",
    "# input the truth label first and then your prediction\n",
    "f_score(truth_label, prediction, 1)"
   ]
  },
  {
   "cell_type": "code",
   "execution_count": null,
   "metadata": {
    "collapsed": true
   },
   "outputs": [],
   "source": []
  },
  {
   "cell_type": "code",
   "execution_count": 3,
   "metadata": {
    "collapsed": true
   },
   "outputs": [],
   "source": [
    "# Result from DBSCAN"
   ]
  },
  {
   "cell_type": "code",
   "execution_count": null,
   "metadata": {
    "collapsed": true
   },
   "outputs": [],
   "source": [
    "# Result froom "
   ]
  }
 ],
 "metadata": {
  "kernelspec": {
   "display_name": "Python 3",
   "language": "python",
   "name": "python3"
  },
  "language_info": {
   "codemirror_mode": {
    "name": "ipython",
    "version": 3
   },
   "file_extension": ".py",
   "mimetype": "text/x-python",
   "name": "python",
   "nbconvert_exporter": "python",
   "pygments_lexer": "ipython3",
   "version": "3.6.7"
  }
 },
 "nbformat": 4,
 "nbformat_minor": 2
}
