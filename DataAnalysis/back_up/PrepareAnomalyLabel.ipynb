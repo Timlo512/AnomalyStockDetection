{
 "cells": [
  {
   "cell_type": "code",
   "execution_count": 28,
   "metadata": {
    "collapsed": true
   },
   "outputs": [],
   "source": [
    "import pandas as pd\n",
    "import numpy as np\n",
    "import platform\n",
    "import re"
   ]
  },
  {
   "cell_type": "code",
   "execution_count": 40,
   "metadata": {
    "collapsed": true
   },
   "outputs": [],
   "source": [
    "if platform.system() == 'Windows':\n",
    "    path = '.\\data\\STOCK.csv'\n",
    "else:\n",
    "    path = './data/STOCK.csv'"
   ]
  },
  {
   "cell_type": "code",
   "execution_count": 58,
   "metadata": {},
   "outputs": [],
   "source": [
    "def get_truth_label(path, threshold = 0.3):\n",
    "    # Load dataset\n",
    "    df = pd.read_csv(path)\n",
    "\n",
    "    # preprocess the data in order to get a proper data structure\n",
    "    df = df.set_index('Unnamed: 0').transpose().dropna()\n",
    "    df = df.reset_index()\n",
    "    df['index'] = df['index'].apply(lambda x: retrieve_stock_code(x))\n",
    "    df = df.set_index('index')\n",
    "\n",
    "    # Define col_dim and empty dataframe\n",
    "    col_dim = len(df.columns)\n",
    "    temp = pd.DataFrame()\n",
    "\n",
    "    # Create a list of column name without the first element\n",
    "    first_dim = df.columns[0]\n",
    "    col_list = df.columns.to_list()\n",
    "    col_list.remove(first_dim)\n",
    "\n",
    "    for col in col_list:\n",
    "        # Assign the col to second_dim, as current date\n",
    "        second_dim = col\n",
    "\n",
    "        # Calculate the daily % change of stock price\n",
    "        temp[col] = (df[second_dim] - df[first_dim]) / df[first_dim]\n",
    "\n",
    "        # Assign the col to first dim, as previous date\n",
    "        first_dim = col\n",
    "\n",
    "    result = np.sum(temp > threshold, axis = 1)\n",
    "\n",
    "    return {stock_code:1 if count > 0 else 0 for stock_code, count in result.items()}\n",
    "\n",
    "def retrieve_stock_code(x):\n",
    "    d = re.search('[0-9]*', x)\n",
    "    if d:\n",
    "        return ('00000' + d.group(0))[-5:]\n",
    "    else:\n",
    "        return None"
   ]
  },
  {
   "cell_type": "code",
   "execution_count": 60,
   "metadata": {},
   "outputs": [],
   "source": [
    "truth_label = get_truth_label(path)"
   ]
  },
  {
   "cell_type": "code",
   "execution_count": null,
   "metadata": {},
   "outputs": [],
   "source": [
    "\n"
   ]
  },
  {
   "cell_type": "code",
   "execution_count": null,
   "metadata": {
    "collapsed": true
   },
   "outputs": [],
   "source": []
  }
 ],
 "metadata": {
  "kernelspec": {
   "display_name": "Python 3",
   "language": "python",
   "name": "python3"
  },
  "language_info": {
   "codemirror_mode": {
    "name": "ipython",
    "version": 3
   },
   "file_extension": ".py",
   "mimetype": "text/x-python",
   "name": "python",
   "nbconvert_exporter": "python",
   "pygments_lexer": "ipython3",
   "version": "3.6.7"
  }
 },
 "nbformat": 4,
 "nbformat_minor": 2
}
