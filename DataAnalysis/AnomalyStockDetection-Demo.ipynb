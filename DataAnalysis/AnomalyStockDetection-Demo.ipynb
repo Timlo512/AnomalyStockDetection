{
 "cells": [
  {
   "cell_type": "code",
   "execution_count": 3,
   "metadata": {
    "collapsed": true
   },
   "outputs": [],
   "source": [
    "import sys\n",
    "import platform\n",
    "\n",
    "import pandas as pd\n",
    "import numpy as np\n",
    "\n",
    "from utils import *"
   ]
  },
  {
   "cell_type": "markdown",
   "metadata": {},
   "source": [
    "# Data Preparation\n",
    "- This Step is to prepare a matrix that suitable to train the model\n",
    "- The matrix is a sparse matrix which contains a lot of zero elements in the matrix\n",
    "- In the matrix, each row is representing a stock code while each column is representing a shareholder\n",
    "- The value of each i,j is representing how many share a shareholder holds for the particular stock\n",
    "\n",
    "| Example | Shareholder1 | Shareholder1 |\n",
    "| --- | --- | --- |\n",
    "| Stock1 | shares | shares |\n",
    "| Stock2 | shares | shares |\n",
    "| Stock3 | shares | shares |\n",
    "| ... | ... | ... |"
   ]
  },
  {
   "cell_type": "code",
   "execution_count": 8,
   "metadata": {},
   "outputs": [
    {
     "name": "stdout",
     "output_type": "stream",
     "text": [
      "Dimension of sparse_matrix:  (2020, 709)\n",
      "How many stock do we have in the dataset:  2020\n",
      "How many unique shareholder do we have in the dataset 709\n"
     ]
    }
   ],
   "source": [
    "# Define data_path\n",
    "if platform.system() == 'Windows':\n",
    "    data_path = '.\\data\\stock_port.csv'\n",
    "else:\n",
    "    data_path = './data/stock_port.csv'\n",
    "    \n",
    "# Load dataset from data path\n",
    "df = load_data(data_path)\n",
    "\n",
    "# Convert df to sparse matrix\n",
    "sp_matrix, row_ind_dict, col_ind_dict = convert_data_sparse_matrix(df)\n",
    "\n",
    "# List Basic Info\n",
    "print('Dimension of sparse_matrix: ', sp_matrix.shape)\n",
    "row_dim = sp_matrix.shape[0]\n",
    "col_dim = sp_matrix.shape[1]\n",
    "print('How many stock do we have in the dataset: ', row_dim)\n",
    "print('How many unique shareholder do we have in the dataset', col_dim)"
   ]
  },
  {
   "cell_type": "markdown",
   "metadata": {},
   "source": [
    "# Data Preprocessing\n",
    "\n",
    "- This step is to normalize each column by calculating the shareholding % of each stock\n",
    "- Sum over the column should result in one"
   ]
  },
  {
   "cell_type": "code",
   "execution_count": 11,
   "metadata": {},
   "outputs": [
    {
     "data": {
      "text/plain": [
       "array([1., 1., 1., ..., 1., 1., 1.])"
      ]
     },
     "execution_count": 11,
     "metadata": {},
     "output_type": "execute_result"
    }
   ],
   "source": [
    "# Calculate shareholding % by stock_code\n",
    "sp_matrix_stock = sp_matrix / np.sum(sp_matrix, axis = 1).reshape(row_dim, -1)\n",
    "\n",
    "# Sum of column should result one\n",
    "np.sum(sp_matrix_stock, axis = 1)"
   ]
  },
  {
   "cell_type": "markdown",
   "metadata": {},
   "source": [
    "# Data Visualization\n",
    "\n",
    "- \n"
   ]
  },
  {
   "cell_type": "code",
   "execution_count": null,
   "metadata": {
    "collapsed": true
   },
   "outputs": [],
   "source": []
  }
 ],
 "metadata": {
  "kernelspec": {
   "display_name": "Python 3",
   "language": "python",
   "name": "python3"
  },
  "language_info": {
   "codemirror_mode": {
    "name": "ipython",
    "version": 3
   },
   "file_extension": ".py",
   "mimetype": "text/x-python",
   "name": "python",
   "nbconvert_exporter": "python",
   "pygments_lexer": "ipython3",
   "version": "3.6.7"
  }
 },
 "nbformat": 4,
 "nbformat_minor": 2
}
