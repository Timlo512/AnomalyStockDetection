{
 "cells": [
  {
   "cell_type": "code",
   "execution_count": 10,
   "metadata": {
    "collapsed": true
   },
   "outputs": [],
   "source": [
    "import pandas as pd\n",
    "import numpy as np\n",
    "import platform"
   ]
  },
  {
   "cell_type": "code",
   "execution_count": 11,
   "metadata": {
    "collapsed": true
   },
   "outputs": [],
   "source": [
    "if platform.system() == 'Windows':\n",
    "    path = '.\\data\\STOCK.csv'\n",
    "else:\n",
    "    path = './data/STOCK.csv'"
   ]
  },
  {
   "cell_type": "code",
   "execution_count": 12,
   "metadata": {
    "collapsed": true
   },
   "outputs": [],
   "source": [
    "df = pd.read_csv(path)\n",
    "df = df.set_index('Unnamed: 0').transpose().dropna()"
   ]
  },
  {
   "cell_type": "code",
   "execution_count": 17,
   "metadata": {
    "collapsed": true
   },
   "outputs": [],
   "source": [
    "# How to define anomaly truth label\n",
    "\n",
    "# Let define it as stock that suddenly rise in one day for over 3-5 times a month\n",
    "# then it is an anomaly stock\n",
    "# 30% of daily stock change\n",
    "frequency = 5 * 1\n",
    "threshold = 0.3"
   ]
  },
  {
   "cell_type": "code",
   "execution_count": 18,
   "metadata": {
    "collapsed": true
   },
   "outputs": [],
   "source": [
    "col_dim = len(df.columns)\n",
    "\n",
    "temp = pd.DataFrame()"
   ]
  },
  {
   "cell_type": "code",
   "execution_count": 19,
   "metadata": {},
   "outputs": [],
   "source": [
    "# Create a list of column name without the first element\n",
    "first_dim = df.columns[0]\n",
    "col_list = df.columns.to_list()\n",
    "col_list.remove(first_dim)\n",
    "\n",
    "for col in col_list:\n",
    "    # Assign the col to second_dim, as current date\n",
    "    second_dim = col\n",
    "    \n",
    "    # Calculate the daily % change of stock price\n",
    "    temp[col] = (df[second_dim] - df[first_dim]) / df[first_dim]\n",
    "    \n",
    "    # Assign the col to first dim, as previous date\n",
    "    first_dim = col\n",
    "    \n",
    "result = np.sum(temp > threshold, axis = 1)   \n"
   ]
  },
  {
   "cell_type": "code",
   "execution_count": 20,
   "metadata": {},
   "outputs": [
    {
     "data": {
      "text/plain": [
       "0"
      ]
     },
     "execution_count": 20,
     "metadata": {},
     "output_type": "execute_result"
    }
   ],
   "source": [
    "(result > frequency).sum()"
   ]
  },
  {
   "cell_type": "code",
   "execution_count": 21,
   "metadata": {},
   "outputs": [
    {
     "data": {
      "text/plain": [
       "259 HK Equity      0\n",
       "69 HK Equity       0\n",
       "374 HK Equity      0\n",
       "285 HK Equity      0\n",
       "270 HK Equity      0\n",
       "                  ..\n",
       "24365 HK Equity    0\n",
       "24489 HK Equity    0\n",
       "24677 HK Equity    0\n",
       "3033 HK Equity     0\n",
       "25541 HK Equity    0\n",
       "Length: 2786, dtype: int64"
      ]
     },
     "execution_count": 21,
     "metadata": {},
     "output_type": "execute_result"
    }
   ],
   "source": [
    "result"
   ]
  },
  {
   "cell_type": "code",
   "execution_count": 28,
   "metadata": {},
   "outputs": [
    {
     "data": {
      "text/plain": [
       "'1/9/2020'"
      ]
     },
     "execution_count": 28,
     "metadata": {},
     "output_type": "execute_result"
    }
   ],
   "source": []
  },
  {
   "cell_type": "code",
   "execution_count": null,
   "metadata": {
    "collapsed": true
   },
   "outputs": [],
   "source": []
  }
 ],
 "metadata": {
  "kernelspec": {
   "display_name": "Python 3",
   "language": "python",
   "name": "python3"
  },
  "language_info": {
   "codemirror_mode": {
    "name": "ipython",
    "version": 3
   },
   "file_extension": ".py",
   "mimetype": "text/x-python",
   "name": "python",
   "nbconvert_exporter": "python",
   "pygments_lexer": "ipython3",
   "version": "3.6.7"
  }
 },
 "nbformat": 4,
 "nbformat_minor": 2
}
